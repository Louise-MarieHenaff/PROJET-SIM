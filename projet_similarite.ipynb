{
 "cells": [
  {
   "cell_type": "code",
   "execution_count": 1,
   "metadata": {},
   "outputs": [],
   "source": [
    "import time\n",
    "from datetime import timedelta\n",
    "import pandas as pd\n",
    "import matplotlib.pyplot as plt\n",
    "\n",
    "import numpy as np\n",
    "from sklearn.neighbors import NearestNeighbors\n",
    "\n",
    "import math\n",
    "\n",
    "\n",
    "#pd.set_option('display.max_rows', None)\n",
    "#pd.set_option('display.max_columns', None)"
   ]
  },
  {
   "cell_type": "markdown",
   "metadata": {},
   "source": [
    "## 2.Récupération et analyse du jeu de données"
   ]
  },
  {
   "cell_type": "code",
   "execution_count": 2,
   "metadata": {},
   "outputs": [
    {
     "name": "stdout",
     "output_type": "stream",
     "text": [
      "                  Date Time  p (mbar)  T (degC)  Tpot (K)  Tdew (degC)  \\\n",
      "0       01.01.2009 00:00:00    996.50     -8.00    264.76        -8.92   \n",
      "1       01.01.2009 00:10:00    996.52     -8.02    265.40        -8.90   \n",
      "2       01.01.2009 00:20:00    996.57     -8.41    265.01        -9.28   \n",
      "3       01.01.2009 00:30:00    996.53     -8.51    264.91        -9.31   \n",
      "4       01.01.2009 00:40:00    996.51     -8.31    265.12        -9.07   \n",
      "...                     ...       ...       ...       ...          ...   \n",
      "420547  31.12.2016 23:20:00   1000.07     -4.05    269.10        -8.13   \n",
      "420548  31.12.2016 23:30:00    999.93     -3.35    269.81        -8.06   \n",
      "420549  31.12.2016 23:40:00    999.82     -3.16    270.01        -8.21   \n",
      "420550  31.12.2016 23:50:00    999.81     -4.23    268.94        -8.53   \n",
      "420551  01.01.2017 00:00:00    999.82     -4.82    268.36        -8.42   \n",
      "\n",
      "        rh (%)  VPmax (mbar)  VPact (mbar)  VPdef (mbar)  sh (g/kg)  \\\n",
      "0        93.30          3.33          3.11          0.23       1.96   \n",
      "1        93.30          3.33          3.11          0.22       1.94   \n",
      "2        93.40          3.23          3.02          0.21       1.89   \n",
      "3        93.90          3.21          3.01          0.20       1.88   \n",
      "4        94.20          3.26          3.07          0.19       1.92   \n",
      "...        ...           ...           ...           ...        ...   \n",
      "420547   73.10          4.52          3.30          1.22       2.06   \n",
      "420548   69.71          4.77          3.32          1.44       2.07   \n",
      "420549   67.91          4.84          3.28          1.55       2.05   \n",
      "420550   71.80          4.46          3.20          1.26       1.99   \n",
      "420551   75.70          4.27          3.23          1.04       2.01   \n",
      "\n",
      "        H2OC (mmol/mol)  rho (g/m**3)  wv (m/s)  max. wv (m/s)  wd (deg)  \n",
      "0                  3.17       1307.75      1.03           1.75     142.7  \n",
      "1                  3.12       1307.75      1.03           1.75     152.3  \n",
      "2                  3.03       1309.80      0.72           1.50     136.1  \n",
      "3                  3.02       1310.24      0.19           0.63     171.6  \n",
      "4                  3.08       1309.19      0.34           0.50     198.0  \n",
      "...                 ...           ...       ...            ...       ...  \n",
      "420547             3.30       1292.98      0.67           1.52     240.0  \n",
      "420548             3.32       1289.44      1.14           1.92     234.3  \n",
      "420549             3.28       1288.39      1.08           2.00     215.2  \n",
      "420550             3.20       1293.56      1.49           2.16     225.8  \n",
      "420551             3.23       1296.38      1.23           1.96     184.9  \n",
      "\n",
      "[420552 rows x 15 columns]\n"
     ]
    }
   ],
   "source": [
    "doc=pd.read_csv('jena_climate_2009_2016.csv')\n",
    "print(doc)"
   ]
  },
  {
   "cell_type": "code",
   "execution_count": 3,
   "metadata": {},
   "outputs": [
    {
     "name": "stdout",
     "output_type": "stream",
     "text": [
      "<class 'pandas.core.frame.DataFrame'>\n",
      "RangeIndex: 420552 entries, 0 to 420551\n",
      "Data columns (total 15 columns):\n",
      " #   Column           Non-Null Count   Dtype  \n",
      "---  ------           --------------   -----  \n",
      " 0   Date Time        420552 non-null  object \n",
      " 1   p (mbar)         420552 non-null  float64\n",
      " 2   T (degC)         420552 non-null  float64\n",
      " 3   Tpot (K)         420552 non-null  float64\n",
      " 4   Tdew (degC)      420552 non-null  float64\n",
      " 5   rh (%)           420552 non-null  float64\n",
      " 6   VPmax (mbar)     420552 non-null  float64\n",
      " 7   VPact (mbar)     420552 non-null  float64\n",
      " 8   VPdef (mbar)     420552 non-null  float64\n",
      " 9   sh (g/kg)        420552 non-null  float64\n",
      " 10  H2OC (mmol/mol)  420552 non-null  float64\n",
      " 11  rho (g/m**3)     420552 non-null  float64\n",
      " 12  wv (m/s)         420552 non-null  float64\n",
      " 13  max. wv (m/s)    420552 non-null  float64\n",
      " 14  wd (deg)         420552 non-null  float64\n",
      "dtypes: float64(14), object(1)\n",
      "memory usage: 48.1+ MB\n",
      "None\n",
      "(420552, 15)\n",
      "             Date Time  p (mbar)  T (degC)  Tpot (K)  Tdew (degC)  rh (%)  \\\n",
      "0  01.01.2009 00:00:00    996.50     -8.00    264.76        -8.92    93.3   \n",
      "1  01.01.2009 00:10:00    996.52     -8.02    265.40        -8.90    93.3   \n",
      "2  01.01.2009 00:20:00    996.57     -8.41    265.01        -9.28    93.4   \n",
      "3  01.01.2009 00:30:00    996.53     -8.51    264.91        -9.31    93.9   \n",
      "4  01.01.2009 00:40:00    996.51     -8.31    265.12        -9.07    94.2   \n",
      "\n",
      "   VPmax (mbar)  VPact (mbar)  VPdef (mbar)  sh (g/kg)  H2OC (mmol/mol)  \\\n",
      "0          3.33          3.11          0.23       1.96             3.17   \n",
      "1          3.33          3.11          0.22       1.94             3.12   \n",
      "2          3.23          3.02          0.21       1.89             3.03   \n",
      "3          3.21          3.01          0.20       1.88             3.02   \n",
      "4          3.26          3.07          0.19       1.92             3.08   \n",
      "\n",
      "   rho (g/m**3)  wv (m/s)  max. wv (m/s)  wd (deg)  \n",
      "0       1307.75      1.03           1.75     142.7  \n",
      "1       1307.75      1.03           1.75     152.3  \n",
      "2       1309.80      0.72           1.50     136.1  \n",
      "3       1310.24      0.19           0.63     171.6  \n",
      "4       1309.19      0.34           0.50     198.0  \n",
      "            p (mbar)       T (degC)       Tpot (K)    Tdew (degC)  \\\n",
      "count  420552.000000  420552.000000  420552.000000  420552.000000   \n",
      "mean      989.212793       9.450106     283.492699       4.955821   \n",
      "std         8.358478       8.423398       8.504510       6.730700   \n",
      "min       913.600000     -23.010000     250.600000     -25.010000   \n",
      "25%       984.200000       3.360000     277.430000       0.240000   \n",
      "50%       989.580000       9.420000     283.465000       5.220000   \n",
      "75%       994.720000      15.470000     289.530000      10.070000   \n",
      "max      1015.350000      37.280000     311.340000      23.110000   \n",
      "\n",
      "              rh (%)   VPmax (mbar)   VPact (mbar)   VPdef (mbar)  \\\n",
      "count  420552.000000  420552.000000  420552.000000  420552.000000   \n",
      "mean       76.008301      13.576226       9.533741       4.042403   \n",
      "std        16.476177       7.739027       4.184171       4.896849   \n",
      "min        12.950000       0.950000       0.790000       0.000000   \n",
      "25%        65.210000       7.780000       6.210000       0.870000   \n",
      "50%        79.300000      11.820000       8.860000       2.190000   \n",
      "75%        89.400000      17.600000      12.350000       5.300000   \n",
      "max       100.000000      63.770000      28.320000      46.010000   \n",
      "\n",
      "           sh (g/kg)  H2OC (mmol/mol)   rho (g/m**3)       wv (m/s)  \\\n",
      "count  420552.000000    420552.000000  420552.000000  420552.000000   \n",
      "mean        6.022399         9.640208    1216.062966       1.702222   \n",
      "std         2.656143         4.235402      39.975411      65.446636   \n",
      "min         0.500000         0.800000    1059.450000   -9999.000000   \n",
      "25%         3.920000         6.290000    1187.490000       0.990000   \n",
      "50%         5.590000         8.960000    1213.790000       1.760000   \n",
      "75%         7.800000        12.490000    1242.770000       2.860000   \n",
      "max        18.130000        28.820000    1393.540000      28.490000   \n",
      "\n",
      "       max. wv (m/s)       wd (deg)  \n",
      "count  420552.000000  420552.000000  \n",
      "mean        3.056552     174.743662  \n",
      "std        69.016850      86.681604  \n",
      "min     -9999.000000       0.000000  \n",
      "25%         1.760000     124.900000  \n",
      "50%         2.960000     198.100000  \n",
      "75%         4.740000     234.100000  \n",
      "max        23.500000     360.000000  \n"
     ]
    }
   ],
   "source": [
    "print(doc.info())\n",
    "print(doc.shape)\n",
    "print(doc.head())\n",
    "print(doc.describe())"
   ]
  },
  {
   "cell_type": "markdown",
   "metadata": {},
   "source": [
    "## 3.Préparation et transformation du jeu de données"
   ]
  },
  {
   "cell_type": "code",
   "execution_count": 4,
   "metadata": {},
   "outputs": [],
   "source": [
    "doc['Date Time'] = pd.to_datetime(doc['Date Time'], format=\"%d.%m.%Y %H:%M:%S\")"
   ]
  },
  {
   "cell_type": "code",
   "execution_count": 5,
   "metadata": {},
   "outputs": [],
   "source": [
    "doc.set_index(\"Date Time\", inplace=True)"
   ]
  },
  {
   "cell_type": "code",
   "execution_count": 6,
   "metadata": {},
   "outputs": [
    {
     "name": "stdout",
     "output_type": "stream",
     "text": [
      "<class 'pandas.core.frame.DataFrame'>\n",
      "DatetimeIndex: 420552 entries, 2009-01-01 00:00:00 to 2017-01-01 00:00:00\n",
      "Data columns (total 14 columns):\n",
      " #   Column           Non-Null Count   Dtype  \n",
      "---  ------           --------------   -----  \n",
      " 0   p (mbar)         420552 non-null  float64\n",
      " 1   T (degC)         420552 non-null  float64\n",
      " 2   Tpot (K)         420552 non-null  float64\n",
      " 3   Tdew (degC)      420552 non-null  float64\n",
      " 4   rh (%)           420552 non-null  float64\n",
      " 5   VPmax (mbar)     420552 non-null  float64\n",
      " 6   VPact (mbar)     420552 non-null  float64\n",
      " 7   VPdef (mbar)     420552 non-null  float64\n",
      " 8   sh (g/kg)        420552 non-null  float64\n",
      " 9   H2OC (mmol/mol)  420552 non-null  float64\n",
      " 10  rho (g/m**3)     420552 non-null  float64\n",
      " 11  wv (m/s)         420552 non-null  float64\n",
      " 12  max. wv (m/s)    420552 non-null  float64\n",
      " 13  wd (deg)         420552 non-null  float64\n",
      "dtypes: float64(14)\n",
      "memory usage: 48.1 MB\n",
      "None\n"
     ]
    }
   ],
   "source": [
    "print(doc.info())"
   ]
  },
  {
   "cell_type": "code",
   "execution_count": 7,
   "metadata": {},
   "outputs": [
    {
     "name": "stdout",
     "output_type": "stream",
     "text": [
      "                     p (mbar)  T (degC)  Tpot (K)  Tdew (degC)  rh (%)  \\\n",
      "Date Time                                                                \n",
      "2009-01-01 00:00:00    996.50     -8.00    264.76        -8.92   93.30   \n",
      "2009-01-01 00:10:00    996.52     -8.02    265.40        -8.90   93.30   \n",
      "2009-01-01 00:20:00    996.57     -8.41    265.01        -9.28   93.40   \n",
      "2009-01-01 00:30:00    996.53     -8.51    264.91        -9.31   93.90   \n",
      "2009-01-01 00:40:00    996.51     -8.31    265.12        -9.07   94.20   \n",
      "...                       ...       ...       ...          ...     ...   \n",
      "2016-12-31 23:20:00   1000.07     -4.05    269.10        -8.13   73.10   \n",
      "2016-12-31 23:30:00    999.93     -3.35    269.81        -8.06   69.71   \n",
      "2016-12-31 23:40:00    999.82     -3.16    270.01        -8.21   67.91   \n",
      "2016-12-31 23:50:00    999.81     -4.23    268.94        -8.53   71.80   \n",
      "2017-01-01 00:00:00    999.82     -4.82    268.36        -8.42   75.70   \n",
      "\n",
      "                     VPmax (mbar)  VPact (mbar)  VPdef (mbar)  sh (g/kg)  \\\n",
      "Date Time                                                                  \n",
      "2009-01-01 00:00:00          3.33          3.11          0.23       1.96   \n",
      "2009-01-01 00:10:00          3.33          3.11          0.22       1.94   \n",
      "2009-01-01 00:20:00          3.23          3.02          0.21       1.89   \n",
      "2009-01-01 00:30:00          3.21          3.01          0.20       1.88   \n",
      "2009-01-01 00:40:00          3.26          3.07          0.19       1.92   \n",
      "...                           ...           ...           ...        ...   \n",
      "2016-12-31 23:20:00          4.52          3.30          1.22       2.06   \n",
      "2016-12-31 23:30:00          4.77          3.32          1.44       2.07   \n",
      "2016-12-31 23:40:00          4.84          3.28          1.55       2.05   \n",
      "2016-12-31 23:50:00          4.46          3.20          1.26       1.99   \n",
      "2017-01-01 00:00:00          4.27          3.23          1.04       2.01   \n",
      "\n",
      "                     H2OC (mmol/mol)  rho (g/m**3)  wv (m/s)  max. wv (m/s)  \\\n",
      "Date Time                                                                     \n",
      "2009-01-01 00:00:00             3.17       1307.75      1.03           1.75   \n",
      "2009-01-01 00:10:00             3.12       1307.75      1.03           1.75   \n",
      "2009-01-01 00:20:00             3.03       1309.80      0.72           1.50   \n",
      "2009-01-01 00:30:00             3.02       1310.24      0.19           0.63   \n",
      "2009-01-01 00:40:00             3.08       1309.19      0.34           0.50   \n",
      "...                              ...           ...       ...            ...   \n",
      "2016-12-31 23:20:00             3.30       1292.98      0.67           1.52   \n",
      "2016-12-31 23:30:00             3.32       1289.44      1.14           1.92   \n",
      "2016-12-31 23:40:00             3.28       1288.39      1.08           2.00   \n",
      "2016-12-31 23:50:00             3.20       1293.56      1.49           2.16   \n",
      "2017-01-01 00:00:00             3.23       1296.38      1.23           1.96   \n",
      "\n",
      "                     wd (deg)  \n",
      "Date Time                      \n",
      "2009-01-01 00:00:00     142.7  \n",
      "2009-01-01 00:10:00     152.3  \n",
      "2009-01-01 00:20:00     136.1  \n",
      "2009-01-01 00:30:00     171.6  \n",
      "2009-01-01 00:40:00     198.0  \n",
      "...                       ...  \n",
      "2016-12-31 23:20:00     240.0  \n",
      "2016-12-31 23:30:00     234.3  \n",
      "2016-12-31 23:40:00     215.2  \n",
      "2016-12-31 23:50:00     225.8  \n",
      "2017-01-01 00:00:00     184.9  \n",
      "\n",
      "[420552 rows x 14 columns]\n"
     ]
    }
   ],
   "source": [
    "print(doc)"
   ]
  },
  {
   "cell_type": "code",
   "execution_count": 12,
   "metadata": {},
   "outputs": [
    {
     "name": "stdout",
     "output_type": "stream",
     "text": [
      "                     p (mbar)  T (degC)  Tpot (K)  Tdew (degC)    rh (%)  \\\n",
      "Date Time                                                                  \n",
      "2009-01-01 00:00:00  0.814742  0.248963  0.233125     0.334372  0.923033   \n",
      "2009-01-01 00:10:00  0.814939  0.248632  0.243662     0.334788  0.923033   \n",
      "2009-01-01 00:20:00  0.815430  0.242163  0.237241     0.326891  0.924182   \n",
      "2009-01-01 00:30:00  0.815037  0.240504  0.235594     0.326268  0.929925   \n",
      "2009-01-01 00:40:00  0.814840  0.243822  0.239052     0.331255  0.933372   \n",
      "...                       ...       ...       ...          ...       ...   \n",
      "2016-12-31 23:20:00  0.849828  0.314480  0.304577     0.350790  0.690982   \n",
      "2016-12-31 23:30:00  0.848452  0.326091  0.316266     0.352244  0.652039   \n",
      "2016-12-31 23:40:00  0.847371  0.329242  0.319559     0.349127  0.631361   \n",
      "2016-12-31 23:50:00  0.847273  0.311494  0.301943     0.342477  0.676048   \n",
      "2017-01-01 00:00:00  0.847371  0.301708  0.292394     0.344763  0.720850   \n",
      "\n",
      "                     VPmax (mbar)  VPact (mbar)  VPdef (mbar)  sh (g/kg)  \\\n",
      "Date Time                                                                  \n",
      "2009-01-01 00:00:00      0.037886      0.084272      0.004999   0.082813   \n",
      "2009-01-01 00:10:00      0.037886      0.084272      0.004782   0.081679   \n",
      "2009-01-01 00:20:00      0.036294      0.081003      0.004564   0.078843   \n",
      "2009-01-01 00:30:00      0.035976      0.080639      0.004347   0.078276   \n",
      "2009-01-01 00:40:00      0.036772      0.082819      0.004130   0.080545   \n",
      "...                           ...           ...           ...        ...   \n",
      "2016-12-31 23:20:00      0.056829      0.091173      0.026516   0.088486   \n",
      "2016-12-31 23:30:00      0.060809      0.091900      0.031298   0.089053   \n",
      "2016-12-31 23:40:00      0.061923      0.090447      0.033688   0.087918   \n",
      "2016-12-31 23:50:00      0.055874      0.087541      0.027385   0.084515   \n",
      "2017-01-01 00:00:00      0.052849      0.088631      0.022604   0.085649   \n",
      "\n",
      "                     H2OC (mmol/mol)  rho (g/m**3)  wv (m/s)  max. wv (m/s)  \\\n",
      "Date Time                                                                     \n",
      "2009-01-01 00:00:00         0.084582      0.743213  0.997262       0.997830   \n",
      "2009-01-01 00:10:00         0.082798      0.743213  0.997262       0.997830   \n",
      "2009-01-01 00:20:00         0.079586      0.749349  0.997231       0.997805   \n",
      "2009-01-01 00:30:00         0.079229      0.750666  0.997178       0.997718   \n",
      "2009-01-01 00:40:00         0.081370      0.747523  0.997193       0.997705   \n",
      "...                              ...           ...       ...            ...   \n",
      "2016-12-31 23:20:00         0.089222      0.699003  0.997226       0.997807   \n",
      "2016-12-31 23:30:00         0.089936      0.688407  0.997272       0.997847   \n",
      "2016-12-31 23:40:00         0.088508      0.685264  0.997267       0.997855   \n",
      "2016-12-31 23:50:00         0.085653      0.700739  0.997307       0.997871   \n",
      "2017-01-01 00:00:00         0.086724      0.709180  0.997281       0.997851   \n",
      "\n",
      "                     wd (deg)  \n",
      "Date Time                      \n",
      "2009-01-01 00:00:00  0.396389  \n",
      "2009-01-01 00:10:00  0.423056  \n",
      "2009-01-01 00:20:00  0.378056  \n",
      "2009-01-01 00:30:00  0.476667  \n",
      "2009-01-01 00:40:00  0.550000  \n",
      "...                       ...  \n",
      "2016-12-31 23:20:00  0.666667  \n",
      "2016-12-31 23:30:00  0.650833  \n",
      "2016-12-31 23:40:00  0.597778  \n",
      "2016-12-31 23:50:00  0.627222  \n",
      "2017-01-01 00:00:00  0.513611  \n",
      "\n",
      "[420552 rows x 14 columns]\n"
     ]
    }
   ],
   "source": [
    "#Normalisation Min-Max : Nouvelle valeur = (valeur – min) / (max – min)\n",
    "#Normalisation moyenne : Nouvelle valeur = (valeur – moyenne) / (écart type)\n",
    "\n",
    "#Min-max : \n",
    "doc_normalisé=(doc-doc.min())/(doc.max()-doc.min())\n",
    "print(doc_normalisé)\n",
    "\n",
    "#moyenne :\n",
    "#(doc-doc.mean())/doc.std()\n",
    "#print(doc)"
   ]
  },
  {
   "cell_type": "code",
   "execution_count": 9,
   "metadata": {},
   "outputs": [
    {
     "name": "stdout",
     "output_type": "stream",
     "text": [
      "                Date Time  p (mbar)  T (degC)  Tpot (K)  Tdew (degC)  \\\n",
      "0     2009-01-01 00:00:00  0.814980  0.246323  0.240533     0.333247   \n",
      "1     2009-01-01 02:00:00  0.818337  0.235197  0.229969     0.318198   \n",
      "2     2009-01-01 04:00:00  0.822940  0.223545  0.217786     0.300966   \n",
      "3     2009-01-01 06:00:00  0.832629  0.233690  0.226635     0.314647   \n",
      "4     2009-01-01 08:00:00  0.845430  0.254561  0.245719     0.338927   \n",
      "...                   ...       ...       ...       ...          ...   \n",
      "35060 2016-12-31 16:00:00  0.873645  0.404890  0.391272     0.424979   \n",
      "35061 2016-12-31 18:00:00  0.870106  0.362595  0.349742     0.402224   \n",
      "35062 2016-12-31 20:00:00  0.861294  0.338890  0.327406     0.374325   \n",
      "35063 2016-12-31 22:00:00  0.851613  0.321115  0.311011     0.358583   \n",
      "35064 2017-01-01 00:00:00  0.847371  0.301708  0.292394     0.344763   \n",
      "\n",
      "         rh (%)  VPmax (mbar)  VPact (mbar)  VPdef (mbar)  sh (g/kg)  \\\n",
      "0      0.928968      0.037369      0.083697      0.004437   0.081395   \n",
      "1      0.923799      0.034676      0.077340      0.004474   0.075109   \n",
      "2      0.912502      0.031970      0.070650      0.004945   0.068491   \n",
      "3      0.916906      0.034357      0.076008      0.004836   0.073549   \n",
      "4      0.910396      0.039438      0.086118      0.005832   0.083381   \n",
      "...         ...           ...           ...           ...        ...   \n",
      "35060  0.591748      0.092672      0.129344      0.052633   0.125024   \n",
      "35061  0.670362      0.074300      0.116751      0.035029   0.112781   \n",
      "35062  0.673157      0.065359      0.102403      0.031424   0.098932   \n",
      "35063  0.690906      0.059111      0.094957      0.027385   0.091936   \n",
      "35064  0.720850      0.052849      0.088631      0.022604   0.085649   \n",
      "\n",
      "       H2OC (mmol/mol)  rho (g/m**3)  wv (m/s)  max. wv (m/s)  wd (deg)  \n",
      "0             0.082411      0.745363  0.997205       0.997747  0.474421  \n",
      "1             0.075958      0.756877  0.997180       0.997716  0.491528  \n",
      "2             0.069236      0.769486  0.997189       0.997729  0.373583  \n",
      "3             0.074500      0.764036  0.997270       0.997827  0.655465  \n",
      "4             0.084285      0.750077  0.997219       0.997781  0.555863  \n",
      "...                ...           ...       ...            ...       ...  \n",
      "35060         0.126368      0.629853  0.997253       0.997809  0.633889  \n",
      "35061         0.114026      0.664606  0.997238       0.997791  0.615231  \n",
      "35062         0.100077      0.681964  0.997233       0.997794  0.419306  \n",
      "35063         0.092910      0.693788  0.997248       0.997808  0.543831  \n",
      "35064         0.086724      0.709180  0.997281       0.997851  0.513611  \n",
      "\n",
      "[35065 rows x 15 columns]\n",
      "(420552, 14)\n"
     ]
    }
   ],
   "source": [
    "doc_aggrege = doc_normalisé.resample('2H').mean()\n",
    "doc_aggrege = doc_aggrege.reset_index()\n",
    "print(doc_aggrege)\n",
    "print(doc.shape)"
   ]
  },
  {
   "cell_type": "code",
   "execution_count": 13,
   "metadata": {},
   "outputs": [
    {
     "data": {
      "image/png": "[encoded data removed]",
      "text/plain": [
       "<Figure size 640x480 with 1 Axes>"
      ]
     },
     "metadata": {},
     "output_type": "display_data"
    }
   ],
   "source": [
    "donnees_a_tracer = doc_normalisé['T (degC)'].head(144)\n",
    "\n",
    "x_values = range(144)\n",
    "\n",
    "plt.plot(x_values, donnees_a_tracer, marker='o', linestyle='-')\n",
    "plt.xlabel('Nombre de valeurs')\n",
    "plt.ylabel('Valeur')\n",
    "plt.title('températures')\n",
    "plt.grid(True)\n",
    "\n",
    "plt.show()"
   ]
  },
  {
   "cell_type": "markdown",
   "metadata": {},
   "source": [
    "## 4.Extraction des caractéristiques"
   ]
  },
  {
   "cell_type": "code",
   "execution_count": null,
   "metadata": {},
   "outputs": [],
   "source": []
  },
  {
   "cell_type": "code",
   "execution_count": null,
   "metadata": {},
   "outputs": [],
   "source": []
  },
  {
   "cell_type": "markdown",
   "metadata": {},
   "source": [
    "## 5.Recherche par similarité"
   ]
  },
  {
   "cell_type": "markdown",
   "metadata": {},
   "source": [
    "#### 5.1.Méthode exacte"
   ]
  },
  {
   "cell_type": "code",
   "execution_count": null,
   "metadata": {},
   "outputs": [],
   "source": []
  },
  {
   "cell_type": "code",
   "execution_count": null,
   "metadata": {},
   "outputs": [],
   "source": []
  },
  {
   "cell_type": "markdown",
   "metadata": {},
   "source": [
    "#### 5.2.Méthode approximative"
   ]
  },
  {
   "cell_type": "code",
   "execution_count": null,
   "metadata": {},
   "outputs": [],
   "source": []
  },
  {
   "cell_type": "code",
   "execution_count": null,
   "metadata": {},
   "outputs": [],
   "source": []
  },
  {
   "cell_type": "markdown",
   "metadata": {},
   "source": [
    "## 6.Exploitation pratique des résultats de recherche"
   ]
  },
  {
   "cell_type": "code",
   "execution_count": null,
   "metadata": {},
   "outputs": [],
   "source": []
  },
  {
   "cell_type": "code",
   "execution_count": null,
   "metadata": {},
   "outputs": [],
   "source": []
  }
 ],
 "metadata": {
  "kernelspec": {
   "display_name": "Python 3",
   "language": "python",
   "name": "python3"
  },
  "language_info": {
   "codemirror_mode": {
    "name": "ipython",
    "version": 3
   },
   "file_extension": ".py",
   "mimetype": "text/x-python",
   "name": "python",
   "nbconvert_exporter": "python",
   "pygments_lexer": "ipython3",
   "version": "3.11.4"
  }
 },
 "nbformat": 4,
 "nbformat_minor": 2
}
